{
  "cells": [
    {
      "cell_type": "markdown",
      "metadata": {
        "id": "view-in-github",
        "colab_type": "text"
      },
      "source": [
        "<a href=\"https://colab.research.google.com/github/leobioinf0/SEHackathon2022/blob/main/main.ipynb\" target=\"_parent\"><img src=\"https://colab.research.google.com/assets/colab-badge.svg\" alt=\"Open In Colab\"/></a>"
      ]
    },
    {
      "cell_type": "code",
      "source": [
        "import requests\n",
        "from sklearn.preprocessing import OrdinalEncoder\n",
        "import pandas as pd\n",
        "import numpy as np\n",
        "from sklearn.model_selection import train_test_split\n",
        "from sklearn.tree import DecisionTreeClassifier\n",
        "from xgboost import XGBClassifier\n",
        "from sklearn.ensemble import RandomForestClassifier\n",
        "from sklearn.linear_model import LogisticRegression\n",
        "from sklearn.preprocessing import StandardScaler\n",
        "from sklearn.metrics import r2_score, mean_absolute_error, mean_squared_error, euclidean_distances\n",
        "from sklearn.metrics import accuracy_score, confusion_matrix, roc_auc_score, recall_score, plot_confusion_matrix\n",
        "from sklearn.metrics import precision_score, f1_score, classification_report, balanced_accuracy_score"
      ],
      "metadata": {
        "id": "uGWpqdQ1KTbf"
      },
      "execution_count": 1,
      "outputs": []
    },
    {
      "cell_type": "code",
      "source": [
        "def parse_values(x):\n",
        "    if x ==\"Nitrogen oxides (NOX)\":\n",
        "       return 0\n",
        "    elif x ==\"Carbon dioxide (CO2)\":\n",
        "       return 1\n",
        "    else:\n",
        "       return 2\n",
        "def analize_models(model, name, X_train, X_test, y_train, y_test):\n",
        "    \n",
        "    model.fit(X_train,y_train)    \n",
        "    y_pred = model.predict(X_test)\n",
        "\n",
        "    scores = {'model': str(name),\n",
        "            'Accuracy':accuracy_score(y_test,y_pred),\n",
        "            'B-Accuracy':balanced_accuracy_score(y_test,y_pred),\n",
        "            'F1 Score':f1_score(y_test,y_pred, average='macro'),\n",
        "            'Precision':precision_score(y_test,y_pred, average='macro'),\n",
        "            'Recall':recall_score(y_test,y_pred, average='macro')}\n",
        "\n",
        "    print(model)\n",
        "    print('')\n",
        "    print(f'Accuracy : {accuracy_score(y_test,y_pred)}')\n",
        "    print(f'B-Accuracy :{balanced_accuracy_score(y_test,y_pred)}')\n",
        "    print(f'F1 Score : {f1_score(y_test,y_pred, average=\"macro\")}')\n",
        "    print(f'Precision : {precision_score(y_test,y_pred, average=\"macro\")}')\n",
        "    print(f'Recall : {recall_score(y_test,y_pred, average=\"macro\")}')\n",
        "    print('')\n",
        "    return scores"
      ],
      "metadata": {
        "id": "qaZS6BQ6dYYh"
      },
      "execution_count": 2,
      "outputs": []
    },
    {
      "cell_type": "code",
      "source": [
        "test_x = pd.read_csv('https://challenges-asset-files.s3.us-east-2.amazonaws.com/data_sets/Data-Science/4+-+events/SchneiderElectricES22/final/test_x.csv', index_col=\"test_index\")"
      ],
      "metadata": {
        "id": "IkxFVbWQpDmy"
      },
      "execution_count": 3,
      "outputs": []
    },
    {
      "cell_type": "code",
      "execution_count": 4,
      "metadata": {
        "id": "Jcz0QV_btsEv"
      },
      "outputs": [],
      "source": [
        "df_1 = pd.read_csv('/content/drive/MyDrive/02-Schneider-Electric-Hack/Data-Science-SE/data/train1.csv')\n",
        "df_2 = pd.read_csv('/content/drive/MyDrive/02-Schneider-Electric-Hack/Data-Science-SE/data/train2.csv', sep=\";\")\n",
        "df_2.drop_duplicates(inplace=True)\n",
        "df_csv = pd.concat([df_1, df_2], ignore_index=True)\n",
        "df_csv = df_csv[[\"countryName\", \"eprtrSectorName\", \"EPRTRAnnexIMainActivityLabel\",  \"reportingYear\", \"MONTH\", \"DAY\", \"max_wind_speed\", \"avg_wind_speed\", \"min_wind_speed\", \"max_temp\", \"avg_temp\", \"min_temp\", \"pollutant\"]].copy()"
      ]
    },
    {
      "cell_type": "code",
      "execution_count": 5,
      "metadata": {
        "id": "v9PI2WcJKkqA"
      },
      "outputs": [],
      "source": [
        "# import json 1\n",
        "api_url = \"http://schneiderapihack-env.eba-3ais9akk.us-east-2.elasticbeanstalk.com/first\"\n",
        "response = requests.get(api_url)\n",
        "data = response.json()\n",
        "df_3 = pd.DataFrame(data)\n",
        "api_url = \"http://schneiderapihack-env.eba-3ais9akk.us-east-2.elasticbeanstalk.com/second\"\n",
        "response = requests.get(api_url)\n",
        "data = response.json()\n",
        "df_4 = pd.DataFrame(data)\n",
        "api_url = \"http://schneiderapihack-env.eba-3ais9akk.us-east-2.elasticbeanstalk.com/third\"\n",
        "response = requests.get(api_url)\n",
        "data = response.json()\n",
        "df_5 = pd.DataFrame(data)\n",
        "df_json = pd.concat([df_3,df_4,df_5])\n",
        "df_json.drop(columns=[''], inplace=True)\n",
        "df_json[test_x.select_dtypes('int').columns] = df_json[test_x.select_dtypes('int').columns].astype(\"int64\")\n",
        "df_json[test_x.select_dtypes('float64').columns] = df_json[test_x.select_dtypes('float64').columns].astype(\"float64\")\n",
        "df_json[test_x.select_dtypes('object').columns] = df_json[test_x.select_dtypes('object').columns].astype(\"object\")\n",
        "df_json = df_json[[\"countryName\", \"eprtrSectorName\", \"EPRTRAnnexIMainActivityLabel\", \"reportingYear\", \"MONTH\", \"DAY\", \"max_wind_speed\", \"avg_wind_speed\", \"min_wind_speed\", \"max_temp\", \"avg_temp\", \"min_temp\", \"pollutant\"]].copy()"
      ]
    },
    {
      "cell_type": "code",
      "source": [
        "df = pd.concat([df_csv,df_json])"
      ],
      "metadata": {
        "id": "ghT32N2Cz1hx"
      },
      "execution_count": 6,
      "outputs": []
    },
    {
      "cell_type": "code",
      "source": [
        "df['pollutant'] = df['pollutant'].apply(parse_values)"
      ],
      "metadata": {
        "id": "rfxLdxifgzn2"
      },
      "execution_count": 7,
      "outputs": []
    },
    {
      "cell_type": "code",
      "source": [
        "encoder = OrdinalEncoder()\n",
        "df[df.select_dtypes('object').columns]= encoder.fit_transform(df[df.select_dtypes('object').columns])"
      ],
      "metadata": {
        "id": "nlH7wIlHqWXE"
      },
      "execution_count": 8,
      "outputs": []
    },
    {
      "cell_type": "code",
      "metadata": {
        "id": "FacYHE4r-_uy"
      },
      "source": [
        "X = df[df.select_dtypes('number').columns].drop(columns=[\"pollutant\"])\n",
        "y = df['pollutant']"
      ],
      "execution_count": 9,
      "outputs": []
    },
    {
      "cell_type": "code",
      "source": [
        "scaler = StandardScaler()\n",
        "X = scaler.fit_transform(X)"
      ],
      "metadata": {
        "id": "xJej2USrJcZX"
      },
      "execution_count": 10,
      "outputs": []
    },
    {
      "cell_type": "code",
      "metadata": {
        "id": "Qx76n-4v-_uy"
      },
      "source": [
        "X_train, X_test, y_train, y_test = train_test_split(X, y, test_size=0.2, random_state = 0)"
      ],
      "execution_count": 11,
      "outputs": []
    },
    {
      "cell_type": "markdown",
      "metadata": {
        "id": "P7eBMcIG-_u2"
      },
      "source": [
        "## Classifier Models"
      ]
    },
    {
      "cell_type": "code",
      "source": [
        "XGBClass = XGBClassifier()\n",
        "RandomForest = RandomForestClassifier()\n",
        "LogReg = LogisticRegression()\n",
        "DecissionTree = DecisionTreeClassifier()"
      ],
      "metadata": {
        "id": "jGOS6y0PT9Rw"
      },
      "execution_count": 12,
      "outputs": []
    },
    {
      "cell_type": "markdown",
      "metadata": {
        "id": "KhkbzS5G-_u2"
      },
      "source": [
        "### XGBClassifier"
      ]
    },
    {
      "cell_type": "code",
      "metadata": {
        "id": "bN0Eymu8-_u2",
        "outputId": "680e5b88-456d-4102-b569-7f1f88def313",
        "colab": {
          "base_uri": "https://localhost:8080/"
        }
      },
      "source": [
        "XGBClass_Score = analize_models(XGBClass, 'XGBClassificier', X_train, X_test, y_train, y_test)"
      ],
      "execution_count": 13,
      "outputs": [
        {
          "output_type": "stream",
          "name": "stdout",
          "text": [
            "XGBClassifier(objective='multi:softprob')\n",
            "\n",
            "Accuracy : 0.6078732519602296\n",
            "B-Accuracy :0.6249620236170351\n",
            "F1 Score : 0.6271084162108683\n",
            "Precision : 0.6568996647889961\n",
            "Recall : 0.6249620236170351\n",
            "\n"
          ]
        }
      ]
    },
    {
      "cell_type": "markdown",
      "metadata": {
        "id": "UClzTD4M-_u3"
      },
      "source": [
        "### RandomForestClassifier"
      ]
    },
    {
      "cell_type": "code",
      "metadata": {
        "id": "I0UGAITa-_u3",
        "outputId": "9ddb3fc5-ebdc-4bc5-9ede-b873aaf58050",
        "colab": {
          "base_uri": "https://localhost:8080/"
        }
      },
      "source": [
        "RandomForest_Score = analize_models(RandomForest, 'RandomForestClassifier', X_train, X_test, y_train, y_test)"
      ],
      "execution_count": 14,
      "outputs": [
        {
          "output_type": "stream",
          "name": "stdout",
          "text": [
            "RandomForestClassifier()\n",
            "\n",
            "Accuracy : 0.6529787406030232\n",
            "B-Accuracy :0.6717954147104388\n",
            "F1 Score : 0.6786900226095121\n",
            "Precision : 0.6900481655447329\n",
            "Recall : 0.6717954147104388\n",
            "\n"
          ]
        }
      ]
    },
    {
      "cell_type": "markdown",
      "metadata": {
        "id": "W3wp1nFP-_u4"
      },
      "source": [
        "### LogisticRegression"
      ]
    },
    {
      "cell_type": "code",
      "metadata": {
        "id": "-_K0xxsA-_u4",
        "outputId": "ca6e55f5-1a14-44a5-9b02-3b804614ef01",
        "colab": {
          "base_uri": "https://localhost:8080/"
        }
      },
      "source": [
        "LogReg_Score = analize_models(LogReg, 'LogisticRegression' ,X_train, X_test, y_train, y_test)"
      ],
      "execution_count": 15,
      "outputs": [
        {
          "output_type": "stream",
          "name": "stdout",
          "text": [
            "LogisticRegression()\n",
            "\n",
            "Accuracy : 0.5231590008891763\n",
            "B-Accuracy :0.5270889299984365\n",
            "F1 Score : 0.4445045373443099\n",
            "Precision : 0.5465506689309279\n",
            "Recall : 0.5270889299984365\n",
            "\n"
          ]
        }
      ]
    },
    {
      "cell_type": "markdown",
      "metadata": {
        "id": "colW6WBl-_u5"
      },
      "source": [
        "### Decission Tree"
      ]
    },
    {
      "cell_type": "code",
      "metadata": {
        "id": "nBtaQzZz-_u5",
        "outputId": "b9e0e356-ad27-4f8c-d1f6-88129a523c29",
        "colab": {
          "base_uri": "https://localhost:8080/"
        }
      },
      "source": [
        "DecissionTree_Score  = analize_models(DecissionTree, 'DecisionTreeClassifier', X_train,X_test,y_train,y_test)"
      ],
      "execution_count": 16,
      "outputs": [
        {
          "output_type": "stream",
          "name": "stdout",
          "text": [
            "DecisionTreeClassifier()\n",
            "\n",
            "Accuracy : 0.6178158596718131\n",
            "B-Accuracy :0.6401160750916193\n",
            "F1 Score : 0.6401725531403168\n",
            "Precision : 0.6402802154522238\n",
            "Recall : 0.6401160750916193\n",
            "\n"
          ]
        }
      ]
    },
    {
      "cell_type": "code",
      "metadata": {
        "id": "pH3Kq-ao-_u6",
        "outputId": "061009d8-2307-4bba-d429-c553e552ef60",
        "colab": {
          "base_uri": "https://localhost:8080/",
          "height": 206
        }
      },
      "source": [
        "scores = pd.DataFrame([XGBClass_Score, RandomForest_Score, LogReg_Score ,DecissionTree_Score]).set_index(keys='model')\n",
        "scores"
      ],
      "execution_count": 17,
      "outputs": [
        {
          "output_type": "execute_result",
          "data": {
            "text/plain": [
              "                        Accuracy  B-Accuracy  F1 Score  Precision    Recall\n",
              "model                                                                      \n",
              "XGBClassificier         0.607873    0.624962  0.627108   0.656900  0.624962\n",
              "RandomForestClassifier  0.652979    0.671795  0.678690   0.690048  0.671795\n",
              "LogisticRegression      0.523159    0.527089  0.444505   0.546551  0.527089\n",
              "DecisionTreeClassifier  0.617816    0.640116  0.640173   0.640280  0.640116"
            ],
            "text/html": [
              "\n",
              "  <div id=\"df-4ac57f8e-9b66-48bc-8bd1-b183100046fd\">\n",
              "    <div class=\"colab-df-container\">\n",
              "      <div>\n",
              "<style scoped>\n",
              "    .dataframe tbody tr th:only-of-type {\n",
              "        vertical-align: middle;\n",
              "    }\n",
              "\n",
              "    .dataframe tbody tr th {\n",
              "        vertical-align: top;\n",
              "    }\n",
              "\n",
              "    .dataframe thead th {\n",
              "        text-align: right;\n",
              "    }\n",
              "</style>\n",
              "<table border=\"1\" class=\"dataframe\">\n",
              "  <thead>\n",
              "    <tr style=\"text-align: right;\">\n",
              "      <th></th>\n",
              "      <th>Accuracy</th>\n",
              "      <th>B-Accuracy</th>\n",
              "      <th>F1 Score</th>\n",
              "      <th>Precision</th>\n",
              "      <th>Recall</th>\n",
              "    </tr>\n",
              "    <tr>\n",
              "      <th>model</th>\n",
              "      <th></th>\n",
              "      <th></th>\n",
              "      <th></th>\n",
              "      <th></th>\n",
              "      <th></th>\n",
              "    </tr>\n",
              "  </thead>\n",
              "  <tbody>\n",
              "    <tr>\n",
              "      <th>XGBClassificier</th>\n",
              "      <td>0.607873</td>\n",
              "      <td>0.624962</td>\n",
              "      <td>0.627108</td>\n",
              "      <td>0.656900</td>\n",
              "      <td>0.624962</td>\n",
              "    </tr>\n",
              "    <tr>\n",
              "      <th>RandomForestClassifier</th>\n",
              "      <td>0.652979</td>\n",
              "      <td>0.671795</td>\n",
              "      <td>0.678690</td>\n",
              "      <td>0.690048</td>\n",
              "      <td>0.671795</td>\n",
              "    </tr>\n",
              "    <tr>\n",
              "      <th>LogisticRegression</th>\n",
              "      <td>0.523159</td>\n",
              "      <td>0.527089</td>\n",
              "      <td>0.444505</td>\n",
              "      <td>0.546551</td>\n",
              "      <td>0.527089</td>\n",
              "    </tr>\n",
              "    <tr>\n",
              "      <th>DecisionTreeClassifier</th>\n",
              "      <td>0.617816</td>\n",
              "      <td>0.640116</td>\n",
              "      <td>0.640173</td>\n",
              "      <td>0.640280</td>\n",
              "      <td>0.640116</td>\n",
              "    </tr>\n",
              "  </tbody>\n",
              "</table>\n",
              "</div>\n",
              "      <button class=\"colab-df-convert\" onclick=\"convertToInteractive('df-4ac57f8e-9b66-48bc-8bd1-b183100046fd')\"\n",
              "              title=\"Convert this dataframe to an interactive table.\"\n",
              "              style=\"display:none;\">\n",
              "        \n",
              "  <svg xmlns=\"http://www.w3.org/2000/svg\" height=\"24px\"viewBox=\"0 0 24 24\"\n",
              "       width=\"24px\">\n",
              "    <path d=\"M0 0h24v24H0V0z\" fill=\"none\"/>\n",
              "    <path d=\"M18.56 5.44l.94 2.06.94-2.06 2.06-.94-2.06-.94-.94-2.06-.94 2.06-2.06.94zm-11 1L8.5 8.5l.94-2.06 2.06-.94-2.06-.94L8.5 2.5l-.94 2.06-2.06.94zm10 10l.94 2.06.94-2.06 2.06-.94-2.06-.94-.94-2.06-.94 2.06-2.06.94z\"/><path d=\"M17.41 7.96l-1.37-1.37c-.4-.4-.92-.59-1.43-.59-.52 0-1.04.2-1.43.59L10.3 9.45l-7.72 7.72c-.78.78-.78 2.05 0 2.83L4 21.41c.39.39.9.59 1.41.59.51 0 1.02-.2 1.41-.59l7.78-7.78 2.81-2.81c.8-.78.8-2.07 0-2.86zM5.41 20L4 18.59l7.72-7.72 1.47 1.35L5.41 20z\"/>\n",
              "  </svg>\n",
              "      </button>\n",
              "      \n",
              "  <style>\n",
              "    .colab-df-container {\n",
              "      display:flex;\n",
              "      flex-wrap:wrap;\n",
              "      gap: 12px;\n",
              "    }\n",
              "\n",
              "    .colab-df-convert {\n",
              "      background-color: #E8F0FE;\n",
              "      border: none;\n",
              "      border-radius: 50%;\n",
              "      cursor: pointer;\n",
              "      display: none;\n",
              "      fill: #1967D2;\n",
              "      height: 32px;\n",
              "      padding: 0 0 0 0;\n",
              "      width: 32px;\n",
              "    }\n",
              "\n",
              "    .colab-df-convert:hover {\n",
              "      background-color: #E2EBFA;\n",
              "      box-shadow: 0px 1px 2px rgba(60, 64, 67, 0.3), 0px 1px 3px 1px rgba(60, 64, 67, 0.15);\n",
              "      fill: #174EA6;\n",
              "    }\n",
              "\n",
              "    [theme=dark] .colab-df-convert {\n",
              "      background-color: #3B4455;\n",
              "      fill: #D2E3FC;\n",
              "    }\n",
              "\n",
              "    [theme=dark] .colab-df-convert:hover {\n",
              "      background-color: #434B5C;\n",
              "      box-shadow: 0px 1px 3px 1px rgba(0, 0, 0, 0.15);\n",
              "      filter: drop-shadow(0px 1px 2px rgba(0, 0, 0, 0.3));\n",
              "      fill: #FFFFFF;\n",
              "    }\n",
              "  </style>\n",
              "\n",
              "      <script>\n",
              "        const buttonEl =\n",
              "          document.querySelector('#df-4ac57f8e-9b66-48bc-8bd1-b183100046fd button.colab-df-convert');\n",
              "        buttonEl.style.display =\n",
              "          google.colab.kernel.accessAllowed ? 'block' : 'none';\n",
              "\n",
              "        async function convertToInteractive(key) {\n",
              "          const element = document.querySelector('#df-4ac57f8e-9b66-48bc-8bd1-b183100046fd');\n",
              "          const dataTable =\n",
              "            await google.colab.kernel.invokeFunction('convertToInteractive',\n",
              "                                                     [key], {});\n",
              "          if (!dataTable) return;\n",
              "\n",
              "          const docLinkHtml = 'Like what you see? Visit the ' +\n",
              "            '<a target=\"_blank\" href=https://colab.research.google.com/notebooks/data_table.ipynb>data table notebook</a>'\n",
              "            + ' to learn more about interactive tables.';\n",
              "          element.innerHTML = '';\n",
              "          dataTable['output_type'] = 'display_data';\n",
              "          await google.colab.output.renderOutput(dataTable, element);\n",
              "          const docLink = document.createElement('div');\n",
              "          docLink.innerHTML = docLinkHtml;\n",
              "          element.appendChild(docLink);\n",
              "        }\n",
              "      </script>\n",
              "    </div>\n",
              "  </div>\n",
              "  "
            ]
          },
          "metadata": {},
          "execution_count": 17
        }
      ]
    },
    {
      "cell_type": "markdown",
      "metadata": {
        "id": "ZG4B2PmO4p8u"
      },
      "source": [
        "### RandomForestClassifier"
      ]
    },
    {
      "cell_type": "code",
      "source": [
        "test = test_x[['countryName', 'eprtrSectorName', 'EPRTRAnnexIMainActivityLabel', 'reportingYear', 'MONTH', 'DAY', 'max_wind_speed', 'avg_wind_speed', 'min_wind_speed', 'max_temp', 'avg_temp', 'min_temp']].copy()"
      ],
      "metadata": {
        "id": "Jig6LA0nJ1Ex"
      },
      "execution_count": 18,
      "outputs": []
    },
    {
      "cell_type": "code",
      "source": [
        "test[['countryName', 'eprtrSectorName', 'EPRTRAnnexIMainActivityLabel']] = encoder.transform(test[['countryName', 'eprtrSectorName', 'EPRTRAnnexIMainActivityLabel']])"
      ],
      "metadata": {
        "id": "y0CYvccFsXUE"
      },
      "execution_count": 19,
      "outputs": []
    },
    {
      "cell_type": "code",
      "source": [
        "test = scaler.transform(test)"
      ],
      "metadata": {
        "id": "hyNWFqC8v_Rb"
      },
      "execution_count": 20,
      "outputs": []
    },
    {
      "cell_type": "code",
      "source": [
        "test_x[\"pollutant\"] = RandomForest.predict(test)"
      ],
      "metadata": {
        "id": "mDMEKGcmyEPS"
      },
      "execution_count": 21,
      "outputs": []
    },
    {
      "cell_type": "code",
      "source": [
        "test_x[[\"pollutant\"]].to_csv(\"./predictions.csv\")"
      ],
      "metadata": {
        "id": "1oLAWoXTzcSA"
      },
      "execution_count": 22,
      "outputs": []
    },
    {
      "cell_type": "code",
      "source": [
        "test_x.reset_index(inplace=True)"
      ],
      "metadata": {
        "id": "Bv8-oJqs1p5D"
      },
      "execution_count": 23,
      "outputs": []
    },
    {
      "cell_type": "code",
      "source": [
        "test_x[[\"test_index\",\"pollutant\"]].to_json(\"./predictions.json\")"
      ],
      "metadata": {
        "id": "cFhYnxP2z-Ho"
      },
      "execution_count": 24,
      "outputs": []
    }
  ],
  "metadata": {
    "colab": {
      "collapsed_sections": [],
      "name": "main.ipynb",
      "provenance": [],
      "mount_file_id": "1C_jwxfEc_zj-7jfsEz9hV3h-qhXf35Q1",
      "authorship_tag": "ABX9TyNpK9hKl8aSiljdTROH7qFb",
      "include_colab_link": true
    },
    "kernelspec": {
      "display_name": "Python 3",
      "name": "python3"
    },
    "language_info": {
      "name": "python"
    }
  },
  "nbformat": 4,
  "nbformat_minor": 0
}